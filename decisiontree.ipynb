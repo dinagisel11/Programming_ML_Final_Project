{
 "cells": [
  {
   "cell_type": "markdown",
   "metadata": {},
   "source": [
    "# Decision Tree Classifier"
   ]
  },
  {
   "cell_type": "code",
   "execution_count": 1,
   "metadata": {},
   "outputs": [],
   "source": [
    "from sklearn import tree\n",
    "from sklearn.metrics import classification_report\n",
    "from sklearn.metrics import confusion_matrix\n",
    "import pandas as pd\n",
    "import numpy as np"
   ]
  },
  {
   "cell_type": "code",
   "execution_count": 2,
   "metadata": {},
   "outputs": [],
   "source": [
    "train = pd.read_csv('train_data_z.csv')\n",
    "test = pd.read_csv('test_data_z.csv')\n",
    "train_target = pd.read_csv('train_target.csv')\n",
    "test_target = pd.read_csv('test_target.csv')"
   ]
  },
  {
   "cell_type": "code",
   "execution_count": 3,
   "metadata": {},
   "outputs": [
    {
     "data": {
      "text/html": [
       "<div>\n",
       "<style scoped>\n",
       "    .dataframe tbody tr th:only-of-type {\n",
       "        vertical-align: middle;\n",
       "    }\n",
       "\n",
       "    .dataframe tbody tr th {\n",
       "        vertical-align: top;\n",
       "    }\n",
       "\n",
       "    .dataframe thead th {\n",
       "        text-align: right;\n",
       "    }\n",
       "</style>\n",
       "<table border=\"1\" class=\"dataframe\">\n",
       "  <thead>\n",
       "    <tr style=\"text-align: right;\">\n",
       "      <th></th>\n",
       "      <th>battery_power</th>\n",
       "      <th>blue</th>\n",
       "      <th>clock_speed</th>\n",
       "      <th>dual_sim</th>\n",
       "      <th>fc</th>\n",
       "      <th>four_g</th>\n",
       "      <th>int_memory</th>\n",
       "      <th>m_dep</th>\n",
       "      <th>mobile_wt</th>\n",
       "      <th>n_cores</th>\n",
       "      <th>pc</th>\n",
       "      <th>ram</th>\n",
       "      <th>talk_time</th>\n",
       "      <th>touch_screen</th>\n",
       "      <th>wifi</th>\n",
       "    </tr>\n",
       "  </thead>\n",
       "  <tbody>\n",
       "    <tr>\n",
       "      <th>0</th>\n",
       "      <td>1.169260</td>\n",
       "      <td>-0.387546</td>\n",
       "      <td>-0.385878</td>\n",
       "      <td>-0.385693</td>\n",
       "      <td>-0.376426</td>\n",
       "      <td>-0.387546</td>\n",
       "      <td>-0.326386</td>\n",
       "      <td>-0.386249</td>\n",
       "      <td>-0.109545</td>\n",
       "      <td>-0.376426</td>\n",
       "      <td>-0.374573</td>\n",
       "      <td>3.452576</td>\n",
       "      <td>-0.352332</td>\n",
       "      <td>-0.385693</td>\n",
       "      <td>-0.387546</td>\n",
       "    </tr>\n",
       "    <tr>\n",
       "      <th>1</th>\n",
       "      <td>3.124485</td>\n",
       "      <td>-0.439235</td>\n",
       "      <td>-0.429522</td>\n",
       "      <td>-0.435886</td>\n",
       "      <td>-0.435886</td>\n",
       "      <td>-0.435886</td>\n",
       "      <td>-0.325357</td>\n",
       "      <td>-0.438565</td>\n",
       "      <td>0.177047</td>\n",
       "      <td>-0.419139</td>\n",
       "      <td>-0.395693</td>\n",
       "      <td>1.751247</td>\n",
       "      <td>-0.419139</td>\n",
       "      <td>-0.439235</td>\n",
       "      <td>-0.439235</td>\n",
       "    </tr>\n",
       "    <tr>\n",
       "      <th>2</th>\n",
       "      <td>0.894237</td>\n",
       "      <td>-0.354732</td>\n",
       "      <td>-0.353609</td>\n",
       "      <td>-0.354732</td>\n",
       "      <td>-0.347589</td>\n",
       "      <td>-0.355752</td>\n",
       "      <td>-0.342487</td>\n",
       "      <td>-0.355242</td>\n",
       "      <td>-0.237386</td>\n",
       "      <td>-0.351670</td>\n",
       "      <td>-0.343507</td>\n",
       "      <td>3.558500</td>\n",
       "      <td>-0.344528</td>\n",
       "      <td>-0.355752</td>\n",
       "      <td>-0.355752</td>\n",
       "    </tr>\n",
       "    <tr>\n",
       "      <th>3</th>\n",
       "      <td>3.274871</td>\n",
       "      <td>-0.430102</td>\n",
       "      <td>-0.431795</td>\n",
       "      <td>-0.433489</td>\n",
       "      <td>-0.419942</td>\n",
       "      <td>-0.433489</td>\n",
       "      <td>-0.281090</td>\n",
       "      <td>-0.431795</td>\n",
       "      <td>0.233677</td>\n",
       "      <td>-0.430102</td>\n",
       "      <td>-0.416555</td>\n",
       "      <td>1.463024</td>\n",
       "      <td>-0.399622</td>\n",
       "      <td>-0.430102</td>\n",
       "      <td>-0.433489</td>\n",
       "    </tr>\n",
       "    <tr>\n",
       "      <th>4</th>\n",
       "      <td>2.044517</td>\n",
       "      <td>-0.430668</td>\n",
       "      <td>-0.431485</td>\n",
       "      <td>-0.430668</td>\n",
       "      <td>-0.414312</td>\n",
       "      <td>-0.433393</td>\n",
       "      <td>-0.305273</td>\n",
       "      <td>-0.433121</td>\n",
       "      <td>-0.035401</td>\n",
       "      <td>-0.425216</td>\n",
       "      <td>-0.408860</td>\n",
       "      <td>2.957718</td>\n",
       "      <td>-0.389778</td>\n",
       "      <td>-0.430668</td>\n",
       "      <td>-0.433393</td>\n",
       "    </tr>\n",
       "    <tr>\n",
       "      <th>...</th>\n",
       "      <td>...</td>\n",
       "      <td>...</td>\n",
       "      <td>...</td>\n",
       "      <td>...</td>\n",
       "      <td>...</td>\n",
       "      <td>...</td>\n",
       "      <td>...</td>\n",
       "      <td>...</td>\n",
       "      <td>...</td>\n",
       "      <td>...</td>\n",
       "      <td>...</td>\n",
       "      <td>...</td>\n",
       "      <td>...</td>\n",
       "      <td>...</td>\n",
       "      <td>...</td>\n",
       "    </tr>\n",
       "    <tr>\n",
       "      <th>395</th>\n",
       "      <td>0.670650</td>\n",
       "      <td>-0.351342</td>\n",
       "      <td>-0.352171</td>\n",
       "      <td>-0.351342</td>\n",
       "      <td>-0.349686</td>\n",
       "      <td>-0.351342</td>\n",
       "      <td>-0.258585</td>\n",
       "      <td>-0.352667</td>\n",
       "      <td>-0.207236</td>\n",
       "      <td>-0.348030</td>\n",
       "      <td>-0.341404</td>\n",
       "      <td>3.620680</td>\n",
       "      <td>-0.324840</td>\n",
       "      <td>-0.351342</td>\n",
       "      <td>-0.351342</td>\n",
       "    </tr>\n",
       "    <tr>\n",
       "      <th>396</th>\n",
       "      <td>1.417180</td>\n",
       "      <td>-0.408184</td>\n",
       "      <td>-0.404450</td>\n",
       "      <td>-0.405988</td>\n",
       "      <td>-0.392808</td>\n",
       "      <td>-0.405988</td>\n",
       "      <td>-0.351073</td>\n",
       "      <td>-0.406647</td>\n",
       "      <td>-0.019389</td>\n",
       "      <td>-0.397202</td>\n",
       "      <td>-0.384022</td>\n",
       "      <td>3.334800</td>\n",
       "      <td>-0.364253</td>\n",
       "      <td>-0.405988</td>\n",
       "      <td>-0.405988</td>\n",
       "    </tr>\n",
       "    <tr>\n",
       "      <th>397</th>\n",
       "      <td>2.336974</td>\n",
       "      <td>-0.409827</td>\n",
       "      <td>-0.410263</td>\n",
       "      <td>-0.411279</td>\n",
       "      <td>-0.404017</td>\n",
       "      <td>-0.411279</td>\n",
       "      <td>-0.343009</td>\n",
       "      <td>-0.410698</td>\n",
       "      <td>-0.251497</td>\n",
       "      <td>-0.405469</td>\n",
       "      <td>-0.396754</td>\n",
       "      <td>2.743693</td>\n",
       "      <td>-0.406922</td>\n",
       "      <td>-0.409827</td>\n",
       "      <td>-0.409827</td>\n",
       "    </tr>\n",
       "    <tr>\n",
       "      <th>398</th>\n",
       "      <td>1.975063</td>\n",
       "      <td>-0.404009</td>\n",
       "      <td>-0.400199</td>\n",
       "      <td>-0.404009</td>\n",
       "      <td>-0.404009</td>\n",
       "      <td>-0.404009</td>\n",
       "      <td>-0.360657</td>\n",
       "      <td>-0.403746</td>\n",
       "      <td>-0.230603</td>\n",
       "      <td>-0.393499</td>\n",
       "      <td>-0.401381</td>\n",
       "      <td>3.024692</td>\n",
       "      <td>-0.386931</td>\n",
       "      <td>-0.402695</td>\n",
       "      <td>-0.404009</td>\n",
       "    </tr>\n",
       "    <tr>\n",
       "      <th>399</th>\n",
       "      <td>3.451721</td>\n",
       "      <td>-0.379681</td>\n",
       "      <td>-0.380839</td>\n",
       "      <td>-0.379681</td>\n",
       "      <td>-0.368099</td>\n",
       "      <td>-0.379681</td>\n",
       "      <td>-0.372732</td>\n",
       "      <td>-0.381766</td>\n",
       "      <td>-0.138771</td>\n",
       "      <td>-0.375048</td>\n",
       "      <td>-0.354200</td>\n",
       "      <td>1.176971</td>\n",
       "      <td>-0.354200</td>\n",
       "      <td>-0.381997</td>\n",
       "      <td>-0.381997</td>\n",
       "    </tr>\n",
       "  </tbody>\n",
       "</table>\n",
       "<p>400 rows × 15 columns</p>\n",
       "</div>"
      ],
      "text/plain": [
       "     battery_power      blue  clock_speed  dual_sim        fc    four_g  \\\n",
       "0         1.169260 -0.387546    -0.385878 -0.385693 -0.376426 -0.387546   \n",
       "1         3.124485 -0.439235    -0.429522 -0.435886 -0.435886 -0.435886   \n",
       "2         0.894237 -0.354732    -0.353609 -0.354732 -0.347589 -0.355752   \n",
       "3         3.274871 -0.430102    -0.431795 -0.433489 -0.419942 -0.433489   \n",
       "4         2.044517 -0.430668    -0.431485 -0.430668 -0.414312 -0.433393   \n",
       "..             ...       ...          ...       ...       ...       ...   \n",
       "395       0.670650 -0.351342    -0.352171 -0.351342 -0.349686 -0.351342   \n",
       "396       1.417180 -0.408184    -0.404450 -0.405988 -0.392808 -0.405988   \n",
       "397       2.336974 -0.409827    -0.410263 -0.411279 -0.404017 -0.411279   \n",
       "398       1.975063 -0.404009    -0.400199 -0.404009 -0.404009 -0.404009   \n",
       "399       3.451721 -0.379681    -0.380839 -0.379681 -0.368099 -0.379681   \n",
       "\n",
       "     int_memory     m_dep  mobile_wt   n_cores        pc       ram  talk_time  \\\n",
       "0     -0.326386 -0.386249  -0.109545 -0.376426 -0.374573  3.452576  -0.352332   \n",
       "1     -0.325357 -0.438565   0.177047 -0.419139 -0.395693  1.751247  -0.419139   \n",
       "2     -0.342487 -0.355242  -0.237386 -0.351670 -0.343507  3.558500  -0.344528   \n",
       "3     -0.281090 -0.431795   0.233677 -0.430102 -0.416555  1.463024  -0.399622   \n",
       "4     -0.305273 -0.433121  -0.035401 -0.425216 -0.408860  2.957718  -0.389778   \n",
       "..          ...       ...        ...       ...       ...       ...        ...   \n",
       "395   -0.258585 -0.352667  -0.207236 -0.348030 -0.341404  3.620680  -0.324840   \n",
       "396   -0.351073 -0.406647  -0.019389 -0.397202 -0.384022  3.334800  -0.364253   \n",
       "397   -0.343009 -0.410698  -0.251497 -0.405469 -0.396754  2.743693  -0.406922   \n",
       "398   -0.360657 -0.403746  -0.230603 -0.393499 -0.401381  3.024692  -0.386931   \n",
       "399   -0.372732 -0.381766  -0.138771 -0.375048 -0.354200  1.176971  -0.354200   \n",
       "\n",
       "     touch_screen      wifi  \n",
       "0       -0.385693 -0.387546  \n",
       "1       -0.439235 -0.439235  \n",
       "2       -0.355752 -0.355752  \n",
       "3       -0.430102 -0.433489  \n",
       "4       -0.430668 -0.433393  \n",
       "..            ...       ...  \n",
       "395     -0.351342 -0.351342  \n",
       "396     -0.405988 -0.405988  \n",
       "397     -0.409827 -0.409827  \n",
       "398     -0.402695 -0.404009  \n",
       "399     -0.381997 -0.381997  \n",
       "\n",
       "[400 rows x 15 columns]"
      ]
     },
     "execution_count": 3,
     "metadata": {},
     "output_type": "execute_result"
    }
   ],
   "source": [
    "test = test.drop(columns=['Unnamed: 0'])\n",
    "test"
   ]
  },
  {
   "cell_type": "code",
   "execution_count": 4,
   "metadata": {
    "scrolled": true
   },
   "outputs": [
    {
     "data": {
      "text/html": [
       "<div>\n",
       "<style scoped>\n",
       "    .dataframe tbody tr th:only-of-type {\n",
       "        vertical-align: middle;\n",
       "    }\n",
       "\n",
       "    .dataframe tbody tr th {\n",
       "        vertical-align: top;\n",
       "    }\n",
       "\n",
       "    .dataframe thead th {\n",
       "        text-align: right;\n",
       "    }\n",
       "</style>\n",
       "<table border=\"1\" class=\"dataframe\">\n",
       "  <thead>\n",
       "    <tr style=\"text-align: right;\">\n",
       "      <th></th>\n",
       "      <th>battery_power</th>\n",
       "      <th>blue</th>\n",
       "      <th>clock_speed</th>\n",
       "      <th>dual_sim</th>\n",
       "      <th>fc</th>\n",
       "      <th>four_g</th>\n",
       "      <th>int_memory</th>\n",
       "      <th>m_dep</th>\n",
       "      <th>mobile_wt</th>\n",
       "      <th>n_cores</th>\n",
       "      <th>pc</th>\n",
       "      <th>ram</th>\n",
       "      <th>talk_time</th>\n",
       "      <th>touch_screen</th>\n",
       "      <th>wifi</th>\n",
       "    </tr>\n",
       "  </thead>\n",
       "  <tbody>\n",
       "    <tr>\n",
       "      <th>0</th>\n",
       "      <td>3.518773</td>\n",
       "      <td>-0.389060</td>\n",
       "      <td>-0.390599</td>\n",
       "      <td>-0.392137</td>\n",
       "      <td>-0.355213</td>\n",
       "      <td>-0.392137</td>\n",
       "      <td>-0.293672</td>\n",
       "      <td>-0.391829</td>\n",
       "      <td>-0.044432</td>\n",
       "      <td>-0.370598</td>\n",
       "      <td>-0.345982</td>\n",
       "      <td>0.977143</td>\n",
       "      <td>-0.349059</td>\n",
       "      <td>-0.392137</td>\n",
       "      <td>-0.389060</td>\n",
       "    </tr>\n",
       "    <tr>\n",
       "      <th>1</th>\n",
       "      <td>3.478740</td>\n",
       "      <td>-0.374512</td>\n",
       "      <td>-0.373483</td>\n",
       "      <td>-0.372454</td>\n",
       "      <td>-0.368337</td>\n",
       "      <td>-0.374512</td>\n",
       "      <td>-0.339520</td>\n",
       "      <td>-0.373071</td>\n",
       "      <td>-0.191318</td>\n",
       "      <td>-0.362162</td>\n",
       "      <td>-0.362162</td>\n",
       "      <td>1.115741</td>\n",
       "      <td>-0.355987</td>\n",
       "      <td>-0.374512</td>\n",
       "      <td>-0.372454</td>\n",
       "    </tr>\n",
       "    <tr>\n",
       "      <th>2</th>\n",
       "      <td>0.238224</td>\n",
       "      <td>-0.323850</td>\n",
       "      <td>-0.322328</td>\n",
       "      <td>-0.322763</td>\n",
       "      <td>-0.320589</td>\n",
       "      <td>-0.322763</td>\n",
       "      <td>-0.287973</td>\n",
       "      <td>-0.322980</td>\n",
       "      <td>-0.124896</td>\n",
       "      <td>-0.319501</td>\n",
       "      <td>-0.315153</td>\n",
       "      <td>3.703076</td>\n",
       "      <td>-0.311891</td>\n",
       "      <td>-0.323850</td>\n",
       "      <td>-0.322763</td>\n",
       "    </tr>\n",
       "    <tr>\n",
       "      <th>3</th>\n",
       "      <td>0.724021</td>\n",
       "      <td>-0.358123</td>\n",
       "      <td>-0.357073</td>\n",
       "      <td>-0.358123</td>\n",
       "      <td>-0.344115</td>\n",
       "      <td>-0.358123</td>\n",
       "      <td>-0.330107</td>\n",
       "      <td>-0.357773</td>\n",
       "      <td>-0.107724</td>\n",
       "      <td>-0.356372</td>\n",
       "      <td>-0.333609</td>\n",
       "      <td>3.602736</td>\n",
       "      <td>-0.351119</td>\n",
       "      <td>-0.356372</td>\n",
       "      <td>-0.358123</td>\n",
       "    </tr>\n",
       "    <tr>\n",
       "      <th>4</th>\n",
       "      <td>2.483225</td>\n",
       "      <td>-0.420429</td>\n",
       "      <td>-0.420769</td>\n",
       "      <td>-0.422129</td>\n",
       "      <td>-0.408529</td>\n",
       "      <td>-0.420429</td>\n",
       "      <td>-0.323527</td>\n",
       "      <td>-0.420769</td>\n",
       "      <td>-0.190925</td>\n",
       "      <td>-0.418729</td>\n",
       "      <td>-0.405129</td>\n",
       "      <td>2.605627</td>\n",
       "      <td>-0.393229</td>\n",
       "      <td>-0.422129</td>\n",
       "      <td>-0.422129</td>\n",
       "    </tr>\n",
       "    <tr>\n",
       "      <th>...</th>\n",
       "      <td>...</td>\n",
       "      <td>...</td>\n",
       "      <td>...</td>\n",
       "      <td>...</td>\n",
       "      <td>...</td>\n",
       "      <td>...</td>\n",
       "      <td>...</td>\n",
       "      <td>...</td>\n",
       "      <td>...</td>\n",
       "      <td>...</td>\n",
       "      <td>...</td>\n",
       "      <td>...</td>\n",
       "      <td>...</td>\n",
       "      <td>...</td>\n",
       "      <td>...</td>\n",
       "    </tr>\n",
       "    <tr>\n",
       "      <th>1595</th>\n",
       "      <td>1.007380</td>\n",
       "      <td>-0.368659</td>\n",
       "      <td>-0.366474</td>\n",
       "      <td>-0.368659</td>\n",
       "      <td>-0.358951</td>\n",
       "      <td>-0.369872</td>\n",
       "      <td>-0.317694</td>\n",
       "      <td>-0.369387</td>\n",
       "      <td>-0.178149</td>\n",
       "      <td>-0.368659</td>\n",
       "      <td>-0.356524</td>\n",
       "      <td>3.517982</td>\n",
       "      <td>-0.362591</td>\n",
       "      <td>-0.369872</td>\n",
       "      <td>-0.369872</td>\n",
       "    </tr>\n",
       "    <tr>\n",
       "      <th>1596</th>\n",
       "      <td>2.025564</td>\n",
       "      <td>-0.412625</td>\n",
       "      <td>-0.410175</td>\n",
       "      <td>-0.410992</td>\n",
       "      <td>-0.391395</td>\n",
       "      <td>-0.412625</td>\n",
       "      <td>-0.326072</td>\n",
       "      <td>-0.411808</td>\n",
       "      <td>-0.246051</td>\n",
       "      <td>-0.404460</td>\n",
       "      <td>-0.386496</td>\n",
       "      <td>2.989081</td>\n",
       "      <td>-0.379963</td>\n",
       "      <td>-0.410992</td>\n",
       "      <td>-0.410992</td>\n",
       "    </tr>\n",
       "    <tr>\n",
       "      <th>1597</th>\n",
       "      <td>1.811740</td>\n",
       "      <td>-0.406298</td>\n",
       "      <td>-0.400533</td>\n",
       "      <td>-0.403791</td>\n",
       "      <td>-0.406298</td>\n",
       "      <td>-0.403791</td>\n",
       "      <td>-0.368704</td>\n",
       "      <td>-0.405295</td>\n",
       "      <td>-0.148153</td>\n",
       "      <td>-0.388754</td>\n",
       "      <td>-0.406298</td>\n",
       "      <td>3.127525</td>\n",
       "      <td>-0.393766</td>\n",
       "      <td>-0.403791</td>\n",
       "      <td>-0.403791</td>\n",
       "    </tr>\n",
       "    <tr>\n",
       "      <th>1598</th>\n",
       "      <td>1.604449</td>\n",
       "      <td>-0.418832</td>\n",
       "      <td>-0.409670</td>\n",
       "      <td>-0.418832</td>\n",
       "      <td>-0.415014</td>\n",
       "      <td>-0.418832</td>\n",
       "      <td>-0.296671</td>\n",
       "      <td>-0.417687</td>\n",
       "      <td>-0.082891</td>\n",
       "      <td>-0.395927</td>\n",
       "      <td>-0.342482</td>\n",
       "      <td>3.242161</td>\n",
       "      <td>-0.395927</td>\n",
       "      <td>-0.415014</td>\n",
       "      <td>-0.418832</td>\n",
       "    </tr>\n",
       "    <tr>\n",
       "      <th>1599</th>\n",
       "      <td>3.645405</td>\n",
       "      <td>-0.340440</td>\n",
       "      <td>-0.340840</td>\n",
       "      <td>-0.340440</td>\n",
       "      <td>-0.338440</td>\n",
       "      <td>-0.340440</td>\n",
       "      <td>-0.328441</td>\n",
       "      <td>-0.341240</td>\n",
       "      <td>-0.166447</td>\n",
       "      <td>-0.326441</td>\n",
       "      <td>-0.334440</td>\n",
       "      <td>0.565525</td>\n",
       "      <td>-0.330440</td>\n",
       "      <td>-0.340440</td>\n",
       "      <td>-0.342440</td>\n",
       "    </tr>\n",
       "  </tbody>\n",
       "</table>\n",
       "<p>1600 rows × 15 columns</p>\n",
       "</div>"
      ],
      "text/plain": [
       "      battery_power      blue  clock_speed  dual_sim        fc    four_g  \\\n",
       "0          3.518773 -0.389060    -0.390599 -0.392137 -0.355213 -0.392137   \n",
       "1          3.478740 -0.374512    -0.373483 -0.372454 -0.368337 -0.374512   \n",
       "2          0.238224 -0.323850    -0.322328 -0.322763 -0.320589 -0.322763   \n",
       "3          0.724021 -0.358123    -0.357073 -0.358123 -0.344115 -0.358123   \n",
       "4          2.483225 -0.420429    -0.420769 -0.422129 -0.408529 -0.420429   \n",
       "...             ...       ...          ...       ...       ...       ...   \n",
       "1595       1.007380 -0.368659    -0.366474 -0.368659 -0.358951 -0.369872   \n",
       "1596       2.025564 -0.412625    -0.410175 -0.410992 -0.391395 -0.412625   \n",
       "1597       1.811740 -0.406298    -0.400533 -0.403791 -0.406298 -0.403791   \n",
       "1598       1.604449 -0.418832    -0.409670 -0.418832 -0.415014 -0.418832   \n",
       "1599       3.645405 -0.340440    -0.340840 -0.340440 -0.338440 -0.340440   \n",
       "\n",
       "      int_memory     m_dep  mobile_wt   n_cores        pc       ram  \\\n",
       "0      -0.293672 -0.391829  -0.044432 -0.370598 -0.345982  0.977143   \n",
       "1      -0.339520 -0.373071  -0.191318 -0.362162 -0.362162  1.115741   \n",
       "2      -0.287973 -0.322980  -0.124896 -0.319501 -0.315153  3.703076   \n",
       "3      -0.330107 -0.357773  -0.107724 -0.356372 -0.333609  3.602736   \n",
       "4      -0.323527 -0.420769  -0.190925 -0.418729 -0.405129  2.605627   \n",
       "...          ...       ...        ...       ...       ...       ...   \n",
       "1595   -0.317694 -0.369387  -0.178149 -0.368659 -0.356524  3.517982   \n",
       "1596   -0.326072 -0.411808  -0.246051 -0.404460 -0.386496  2.989081   \n",
       "1597   -0.368704 -0.405295  -0.148153 -0.388754 -0.406298  3.127525   \n",
       "1598   -0.296671 -0.417687  -0.082891 -0.395927 -0.342482  3.242161   \n",
       "1599   -0.328441 -0.341240  -0.166447 -0.326441 -0.334440  0.565525   \n",
       "\n",
       "      talk_time  touch_screen      wifi  \n",
       "0     -0.349059     -0.392137 -0.389060  \n",
       "1     -0.355987     -0.374512 -0.372454  \n",
       "2     -0.311891     -0.323850 -0.322763  \n",
       "3     -0.351119     -0.356372 -0.358123  \n",
       "4     -0.393229     -0.422129 -0.422129  \n",
       "...         ...           ...       ...  \n",
       "1595  -0.362591     -0.369872 -0.369872  \n",
       "1596  -0.379963     -0.410992 -0.410992  \n",
       "1597  -0.393766     -0.403791 -0.403791  \n",
       "1598  -0.395927     -0.415014 -0.418832  \n",
       "1599  -0.330440     -0.340440 -0.342440  \n",
       "\n",
       "[1600 rows x 15 columns]"
      ]
     },
     "execution_count": 4,
     "metadata": {},
     "output_type": "execute_result"
    }
   ],
   "source": [
    "train = train.drop(columns=['Unnamed: 0'])\n",
    "train"
   ]
  },
  {
   "cell_type": "code",
   "execution_count": 5,
   "metadata": {},
   "outputs": [
    {
     "data": {
      "text/html": [
       "<div>\n",
       "<style scoped>\n",
       "    .dataframe tbody tr th:only-of-type {\n",
       "        vertical-align: middle;\n",
       "    }\n",
       "\n",
       "    .dataframe tbody tr th {\n",
       "        vertical-align: top;\n",
       "    }\n",
       "\n",
       "    .dataframe thead th {\n",
       "        text-align: right;\n",
       "    }\n",
       "</style>\n",
       "<table border=\"1\" class=\"dataframe\">\n",
       "  <thead>\n",
       "    <tr style=\"text-align: right;\">\n",
       "      <th></th>\n",
       "      <th>price_range</th>\n",
       "    </tr>\n",
       "  </thead>\n",
       "  <tbody>\n",
       "    <tr>\n",
       "      <th>0</th>\n",
       "      <td>0</td>\n",
       "    </tr>\n",
       "    <tr>\n",
       "      <th>1</th>\n",
       "      <td>1</td>\n",
       "    </tr>\n",
       "    <tr>\n",
       "      <th>2</th>\n",
       "      <td>3</td>\n",
       "    </tr>\n",
       "    <tr>\n",
       "      <th>3</th>\n",
       "      <td>2</td>\n",
       "    </tr>\n",
       "    <tr>\n",
       "      <th>4</th>\n",
       "      <td>2</td>\n",
       "    </tr>\n",
       "    <tr>\n",
       "      <th>...</th>\n",
       "      <td>...</td>\n",
       "    </tr>\n",
       "    <tr>\n",
       "      <th>1595</th>\n",
       "      <td>3</td>\n",
       "    </tr>\n",
       "    <tr>\n",
       "      <th>1596</th>\n",
       "      <td>2</td>\n",
       "    </tr>\n",
       "    <tr>\n",
       "      <th>1597</th>\n",
       "      <td>0</td>\n",
       "    </tr>\n",
       "    <tr>\n",
       "      <th>1598</th>\n",
       "      <td>0</td>\n",
       "    </tr>\n",
       "    <tr>\n",
       "      <th>1599</th>\n",
       "      <td>0</td>\n",
       "    </tr>\n",
       "  </tbody>\n",
       "</table>\n",
       "<p>1600 rows × 1 columns</p>\n",
       "</div>"
      ],
      "text/plain": [
       "      price_range\n",
       "0               0\n",
       "1               1\n",
       "2               3\n",
       "3               2\n",
       "4               2\n",
       "...           ...\n",
       "1595            3\n",
       "1596            2\n",
       "1597            0\n",
       "1598            0\n",
       "1599            0\n",
       "\n",
       "[1600 rows x 1 columns]"
      ]
     },
     "execution_count": 5,
     "metadata": {},
     "output_type": "execute_result"
    }
   ],
   "source": [
    "train_target = train_target.drop(columns=['Unnamed: 0'])\n",
    "train_target"
   ]
  },
  {
   "cell_type": "code",
   "execution_count": 6,
   "metadata": {},
   "outputs": [
    {
     "data": {
      "text/html": [
       "<div>\n",
       "<style scoped>\n",
       "    .dataframe tbody tr th:only-of-type {\n",
       "        vertical-align: middle;\n",
       "    }\n",
       "\n",
       "    .dataframe tbody tr th {\n",
       "        vertical-align: top;\n",
       "    }\n",
       "\n",
       "    .dataframe thead th {\n",
       "        text-align: right;\n",
       "    }\n",
       "</style>\n",
       "<table border=\"1\" class=\"dataframe\">\n",
       "  <thead>\n",
       "    <tr style=\"text-align: right;\">\n",
       "      <th></th>\n",
       "      <th>price_range</th>\n",
       "    </tr>\n",
       "  </thead>\n",
       "  <tbody>\n",
       "    <tr>\n",
       "      <th>0</th>\n",
       "      <td>0</td>\n",
       "    </tr>\n",
       "    <tr>\n",
       "      <th>1</th>\n",
       "      <td>1</td>\n",
       "    </tr>\n",
       "    <tr>\n",
       "      <th>2</th>\n",
       "      <td>3</td>\n",
       "    </tr>\n",
       "    <tr>\n",
       "      <th>3</th>\n",
       "      <td>2</td>\n",
       "    </tr>\n",
       "    <tr>\n",
       "      <th>4</th>\n",
       "      <td>2</td>\n",
       "    </tr>\n",
       "    <tr>\n",
       "      <th>...</th>\n",
       "      <td>...</td>\n",
       "    </tr>\n",
       "    <tr>\n",
       "      <th>1595</th>\n",
       "      <td>3</td>\n",
       "    </tr>\n",
       "    <tr>\n",
       "      <th>1596</th>\n",
       "      <td>2</td>\n",
       "    </tr>\n",
       "    <tr>\n",
       "      <th>1597</th>\n",
       "      <td>0</td>\n",
       "    </tr>\n",
       "    <tr>\n",
       "      <th>1598</th>\n",
       "      <td>0</td>\n",
       "    </tr>\n",
       "    <tr>\n",
       "      <th>1599</th>\n",
       "      <td>0</td>\n",
       "    </tr>\n",
       "  </tbody>\n",
       "</table>\n",
       "<p>1600 rows × 1 columns</p>\n",
       "</div>"
      ],
      "text/plain": [
       "      price_range\n",
       "0               0\n",
       "1               1\n",
       "2               3\n",
       "3               2\n",
       "4               2\n",
       "...           ...\n",
       "1595            3\n",
       "1596            2\n",
       "1597            0\n",
       "1598            0\n",
       "1599            0\n",
       "\n",
       "[1600 rows x 1 columns]"
      ]
     },
     "execution_count": 6,
     "metadata": {},
     "output_type": "execute_result"
    }
   ],
   "source": [
    "test_target = test_target.drop(columns=['Unnamed: 0'])\n",
    "train_target"
   ]
  },
  {
   "cell_type": "code",
   "execution_count": 7,
   "metadata": {},
   "outputs": [],
   "source": [
    "trainNP = train.to_numpy()\n",
    "testNP = test.to_numpy()\n",
    "train_targetNP = train_target.to_numpy()\n",
    "test_targetNP = test_target.to_numpy()"
   ]
  },
  {
   "cell_type": "code",
   "execution_count": 8,
   "metadata": {},
   "outputs": [],
   "source": [
    "treeclf = tree.DecisionTreeClassifier(criterion='entropy', min_samples_split=3)"
   ]
  },
  {
   "cell_type": "code",
   "execution_count": 9,
   "metadata": {},
   "outputs": [],
   "source": [
    "treeclf = treeclf.fit(trainNP, train_targetNP)"
   ]
  },
  {
   "cell_type": "code",
   "execution_count": 10,
   "metadata": {},
   "outputs": [
    {
     "name": "stdout",
     "output_type": "stream",
     "text": [
      "[1 0 2 0 1 1 3 0 2 2 3 3 1 3 2 2 0 2 1 3 1 0 1 3 3 3 0 1 0 2 1 2 3 0 3 1 1\n",
      " 1 3 0 0 3 1 1 1 1 1 2 3 2 0 2 0 2 2 2 1 0 2 1 3 2 0 1 1 3 3 1 2 2 1 3 0 0\n",
      " 1 3 2 2 0 1 2 0 2 2 3 2 1 1 3 3 2 3 0 3 2 0 3 2 2 1 1 0 1 0 1 1 3 0 2 3 3\n",
      " 1 2 1 1 0 1 2 1 3 2 1 0 1 1 2 1 3 0 0 2 2 3 2 2 1 2 3 1 2 0 2 0 1 0 0 1 1\n",
      " 2 1 1 2 1 1 0 3 0 2 3 1 2 0 1 0 2 0 3 0 2 2 0 3 2 2 0 3 2 2 1 2 2 0 0 2 2\n",
      " 3 3 2 2 2 3 2 2 2 2 1 1 2 1 2 3 0 3 0 0 0 0 1 0 2 3 3 0 3 1 2 2 0 0 1 3 3\n",
      " 2 0 1 2 1 0 3 1 3 2 3 0 2 0 0 0 0 3 1 3 3 1 0 1 1 1 0 0 1 2 0 1 1 0 3 3 2\n",
      " 3 2 3 3 0 3 2 3 2 0 0 1 0 1 1 2 1 0 2 1 2 0 0 1 1 0 1 3 2 0 0 1 0 0 0 2 2\n",
      " 1 2 1 1 0 2 2 1 2 1 3 3 3 3 2 2 3 1 3 0 2 2 2 2 3 0 3 2 0 0 1 1 0 0 3 2 0\n",
      " 3 3 3 3 3 1 3 3 1 0 3 0 3 1 3 3 0 3 0 3 0 3 3 0 3 1 3 0 2 2 1 2 3 0 3 3 0\n",
      " 3 2 1 3 2 2 3 3 3 3 2 2 1 2 0 2 1 3 2 0 0 2 3 3 3 1 0 2 2 0]\n"
     ]
    }
   ],
   "source": [
    "treepreds_test = treeclf.predict(testNP)\n",
    "print (treepreds_test)"
   ]
  },
  {
   "cell_type": "code",
   "execution_count": 11,
   "metadata": {},
   "outputs": [
    {
     "name": "stdout",
     "output_type": "stream",
     "text": [
      "0.5725\n"
     ]
    }
   ],
   "source": [
    "print (treeclf.score(testNP, test_targetNP))"
   ]
  },
  {
   "cell_type": "code",
   "execution_count": 12,
   "metadata": {},
   "outputs": [
    {
     "name": "stdout",
     "output_type": "stream",
     "text": [
      "0.990625\n"
     ]
    }
   ],
   "source": [
    "print (treeclf.score(trainNP, train_targetNP))"
   ]
  },
  {
   "cell_type": "code",
   "execution_count": 13,
   "metadata": {},
   "outputs": [
    {
     "name": "stdout",
     "output_type": "stream",
     "text": [
      "              precision    recall  f1-score   support\n",
      "\n",
      "           0       0.73      0.76      0.74        94\n",
      "           1       0.49      0.44      0.47       106\n",
      "           2       0.40      0.46      0.43        93\n",
      "           3       0.69      0.64      0.66       107\n",
      "\n",
      "    accuracy                           0.57       400\n",
      "   macro avg       0.58      0.57      0.57       400\n",
      "weighted avg       0.58      0.57      0.57       400\n",
      "\n"
     ]
    }
   ],
   "source": [
    "print(classification_report(test_targetNP, treepreds_test))"
   ]
  },
  {
   "cell_type": "code",
   "execution_count": 14,
   "metadata": {},
   "outputs": [
    {
     "name": "stdout",
     "output_type": "stream",
     "text": [
      "[[71 20  3  0]\n",
      " [21 47 28 10]\n",
      " [ 5 24 43 21]\n",
      " [ 0  5 34 68]]\n"
     ]
    }
   ],
   "source": [
    "treecm = confusion_matrix(test_targetNP, treepreds_test, labels=[0,1,2,3])\n",
    "print (treecm)"
   ]
  },
  {
   "cell_type": "code",
   "execution_count": 15,
   "metadata": {},
   "outputs": [
    {
     "data": {
      "image/png": "[encoded data removed]",
      "text/plain": [
       "<Figure size 288x288 with 2 Axes>"
      ]
     },
     "metadata": {
      "needs_background": "light"
     },
     "output_type": "display_data"
    }
   ],
   "source": [
    "import pylab as plt\n",
    "%matplotlib inline\n",
    "plt.matshow(treecm)\n",
    "plt.title('Confusion matrix')\n",
    "plt.colorbar()\n",
    "plt.ylabel('Actual')\n",
    "plt.xlabel('Predicted')\n",
    "plt.show()"
   ]
  },
  {
   "cell_type": "markdown",
   "metadata": {},
   "source": [
    "### Initally, overfitting appears to be an issue due to a very high score on the training set and a much lower score on the testing set. To combat the overfitting, I am going to perform some post-pruning to determine the best cost complexity parameter (ccp_alpha) value to use. \n",
    "\n",
    "### The cost complexity pruning path from sklearn identifies which nodes can or should be left off the decision tree by providing alpha values that correspond to which nodes are pruned and the corresponding impurity level associated with each step. In the process below, I attempt to find the best alpha value, which will prune meaningless nodes, help deter the overfitting that I saw above, while maintaining a low impurity level for my leaves"
   ]
  },
  {
   "cell_type": "code",
   "execution_count": 16,
   "metadata": {},
   "outputs": [],
   "source": [
    "clf = tree.DecisionTreeClassifier(random_state=0)\n",
    "path = clf.cost_complexity_pruning_path(trainNP, train_targetNP)\n",
    "ccp_alphas, impurities = path.ccp_alphas, path.impurities"
   ]
  },
  {
   "cell_type": "markdown",
   "metadata": {},
   "source": [
    "#### In the plot below, the effective alpha levels and their corresponding total impurity levels are graphed, leaving off the top alpha value, because that would correspond with only 1 node, which would not provide much meaning"
   ]
  },
  {
   "cell_type": "code",
   "execution_count": 17,
   "metadata": {},
   "outputs": [
    {
     "data": {
      "text/plain": [
       "Text(0.5, 1.0, 'Total Impurity vs effective alpha for training set')"
      ]
     },
     "execution_count": 17,
     "metadata": {},
     "output_type": "execute_result"
    },
    {
     "data": {
      "image/png": "[encoded data removed]",
      "text/plain": [
       "<Figure size 432x288 with 1 Axes>"
      ]
     },
     "metadata": {
      "needs_background": "light"
     },
     "output_type": "display_data"
    }
   ],
   "source": [
    "fig, ax = plt.subplots()\n",
    "ax.plot(ccp_alphas[:-1], impurities[:-1], marker='o', drawstyle=\"steps-post\")\n",
    "ax.set_xlabel(\"effective alpha\")\n",
    "ax.set_ylabel(\"total impurity of leaves\")\n",
    "ax.set_title(\"Total Impurity vs effective alpha for training set\")"
   ]
  },
  {
   "cell_type": "markdown",
   "metadata": {},
   "source": [
    "#### Below we are examing the impact different alpha values have, while identifying the alpha value that would prune the entire tree less one node. We can see that when an alpha value of 0.1215.. is selected, we will have a decision tree with a single node, which is not ideal."
   ]
  },
  {
   "cell_type": "code",
   "execution_count": 18,
   "metadata": {},
   "outputs": [
    {
     "name": "stdout",
     "output_type": "stream",
     "text": [
      "Number of nodes in the last tree is: 1 with ccp_alpha: 0.12157281190745839\n"
     ]
    }
   ],
   "source": [
    "clfs = []\n",
    "for ccp_alpha in ccp_alphas:\n",
    "    clf = tree.DecisionTreeClassifier(random_state=0, ccp_alpha=ccp_alpha)\n",
    "    clf.fit(trainNP, train_targetNP)\n",
    "    clfs.append(clf)\n",
    "print(\"Number of nodes in the last tree is: {} with ccp_alpha: {}\".format(\n",
    "      clfs[-1].tree_.node_count, ccp_alphas[-1]))"
   ]
  },
  {
   "cell_type": "markdown",
   "metadata": {},
   "source": [
    "#### The next two plots examine the tree depth and corresponding alpha levels, the top alpha level has been left off, as it correponds to the trivial one node tree. "
   ]
  },
  {
   "cell_type": "code",
   "execution_count": 19,
   "metadata": {},
   "outputs": [
    {
     "data": {
      "image/png": "[encoded data removed]",
      "text/plain": [
       "<Figure size 432x288 with 2 Axes>"
      ]
     },
     "metadata": {
      "needs_background": "light"
     },
     "output_type": "display_data"
    }
   ],
   "source": [
    "clfs = clfs[:-1]\n",
    "ccp_alphas = ccp_alphas[:-1]\n",
    "\n",
    "node_counts = [clf.tree_.node_count for clf in clfs]\n",
    "depth = [clf.tree_.max_depth for clf in clfs]\n",
    "fig, ax = plt.subplots(2, 1)\n",
    "ax[0].plot(ccp_alphas, node_counts, marker='o', drawstyle=\"steps-post\")\n",
    "ax[0].set_xlabel(\"alpha\")\n",
    "ax[0].set_ylabel(\"number of nodes\")\n",
    "ax[0].set_title(\"Number of nodes vs alpha\")\n",
    "ax[1].plot(ccp_alphas, depth, marker='o', drawstyle=\"steps-post\")\n",
    "ax[1].set_xlabel(\"alpha\")\n",
    "ax[1].set_ylabel(\"depth of tree\")\n",
    "ax[1].set_title(\"Depth vs alpha\")\n",
    "fig.tight_layout()"
   ]
  },
  {
   "cell_type": "markdown",
   "metadata": {},
   "source": [
    "### Below the accuracy level of the training and testing sets and corresponding alpha levels is compared. As seen in the initial decision tree above, there is overfitting when alpha is zero, which can be seen by the differences in accuracy in the training and testing set when alpha = 0. The accuracy levels of training and testing come together around the alpha value of 0.01, so I will rerun the decision tree classifier with an alpha value of 0.01."
   ]
  },
  {
   "cell_type": "code",
   "execution_count": 20,
   "metadata": {},
   "outputs": [
    {
     "data": {
      "image/png": "[encoded data removed]",
      "text/plain": [
       "<Figure size 432x288 with 1 Axes>"
      ]
     },
     "metadata": {
      "needs_background": "light"
     },
     "output_type": "display_data"
    }
   ],
   "source": [
    "train_scores = [clf.score(trainNP, train_targetNP) for clf in clfs]\n",
    "test_scores = [clf.score(testNP, test_targetNP) for clf in clfs]\n",
    "\n",
    "fig, ax = plt.subplots()\n",
    "ax.set_xlabel(\"alpha\")\n",
    "ax.set_ylabel(\"accuracy\")\n",
    "ax.set_title(\"Accuracy vs alpha for training and testing sets\")\n",
    "ax.plot(ccp_alphas, train_scores, marker='o', label=\"train\",\n",
    "        drawstyle=\"steps-post\")\n",
    "ax.plot(ccp_alphas, test_scores, marker='o', label=\"test\",\n",
    "        drawstyle=\"steps-post\")\n",
    "ax.legend()\n",
    "plt.show()"
   ]
  },
  {
   "cell_type": "markdown",
   "metadata": {},
   "source": [
    "# Decision Tree Classifier \n",
    "### When ccp_alpha = 0.01"
   ]
  },
  {
   "cell_type": "code",
   "execution_count": 21,
   "metadata": {},
   "outputs": [],
   "source": [
    "treeclf = tree.DecisionTreeClassifier(criterion='entropy', min_samples_split=3, ccp_alpha = 0.01)"
   ]
  },
  {
   "cell_type": "code",
   "execution_count": 22,
   "metadata": {},
   "outputs": [],
   "source": [
    "treeclf = treeclf.fit(trainNP, train_targetNP)"
   ]
  },
  {
   "cell_type": "code",
   "execution_count": 23,
   "metadata": {},
   "outputs": [
    {
     "name": "stdout",
     "output_type": "stream",
     "text": [
      "[1 0 3 0 0 1 3 1 2 3 3 3 1 2 1 3 0 2 2 3 2 0 1 3 3 3 0 1 0 3 3 3 3 0 3 2 1\n",
      " 1 3 0 0 2 1 1 0 0 1 2 3 2 0 1 0 2 2 2 1 1 2 1 3 3 0 1 2 3 3 1 2 2 0 3 0 0\n",
      " 1 3 3 2 0 2 2 0 2 2 3 3 0 3 3 2 2 3 0 3 3 1 3 1 3 2 1 0 1 1 2 2 3 0 1 3 3\n",
      " 1 1 2 1 0 1 2 1 3 3 2 0 3 2 2 0 3 0 1 3 2 3 3 2 3 2 3 2 2 0 3 0 2 0 0 0 1\n",
      " 2 1 1 2 0 1 0 3 0 2 2 2 3 0 0 0 2 0 3 0 2 3 0 3 3 3 1 3 2 0 1 2 2 0 0 2 1\n",
      " 3 3 3 2 2 2 2 2 3 2 1 1 3 1 3 3 1 3 0 0 2 0 0 0 3 2 2 0 3 0 2 2 1 0 1 3 3\n",
      " 3 0 2 2 0 0 3 0 3 2 3 0 2 0 1 0 0 3 1 2 2 1 0 1 0 1 0 0 1 2 0 2 0 1 2 3 2\n",
      " 2 2 3 2 1 2 0 2 3 0 0 1 1 0 2 2 2 1 3 1 2 0 0 1 2 0 0 3 2 0 0 2 0 0 0 1 2\n",
      " 3 3 1 1 0 3 2 1 2 0 3 3 3 3 3 2 2 0 3 0 1 3 2 2 3 1 3 2 1 0 1 0 0 0 3 2 0\n",
      " 3 2 3 3 3 1 3 3 1 0 2 0 3 1 3 3 0 2 0 3 0 3 2 0 3 0 3 0 2 2 0 1 3 0 3 3 1\n",
      " 3 3 2 3 3 2 3 3 3 3 0 2 2 1 0 1 2 3 2 0 0 2 3 3 2 3 0 2 2 0]\n"
     ]
    }
   ],
   "source": [
    "treepreds_test = treeclf.predict(testNP)\n",
    "print (treepreds_test)"
   ]
  },
  {
   "cell_type": "code",
   "execution_count": 24,
   "metadata": {},
   "outputs": [
    {
     "name": "stdout",
     "output_type": "stream",
     "text": [
      "0.625\n"
     ]
    }
   ],
   "source": [
    "print (treeclf.score(testNP, test_targetNP))"
   ]
  },
  {
   "cell_type": "code",
   "execution_count": 25,
   "metadata": {},
   "outputs": [
    {
     "name": "stdout",
     "output_type": "stream",
     "text": [
      "0.67125\n"
     ]
    }
   ],
   "source": [
    "print (treeclf.score(trainNP, train_targetNP))"
   ]
  },
  {
   "cell_type": "code",
   "execution_count": 26,
   "metadata": {},
   "outputs": [
    {
     "name": "stdout",
     "output_type": "stream",
     "text": [
      "              precision    recall  f1-score   support\n",
      "\n",
      "           0       0.77      0.86      0.81        94\n",
      "           1       0.54      0.37      0.44       106\n",
      "           2       0.45      0.52      0.48        93\n",
      "           3       0.70      0.77      0.73       107\n",
      "\n",
      "    accuracy                           0.62       400\n",
      "   macro avg       0.62      0.63      0.62       400\n",
      "weighted avg       0.62      0.62      0.62       400\n",
      "\n"
     ]
    }
   ],
   "source": [
    "print(classification_report(test_targetNP, treepreds_test))"
   ]
  },
  {
   "cell_type": "code",
   "execution_count": 27,
   "metadata": {},
   "outputs": [
    {
     "name": "stdout",
     "output_type": "stream",
     "text": [
      "[[81 12  1  0]\n",
      " [22 39 32 13]\n",
      " [ 2 21 48 22]\n",
      " [ 0  0 25 82]]\n"
     ]
    }
   ],
   "source": [
    "treecm = confusion_matrix(test_targetNP, treepreds_test, labels=[0,1,2,3])\n",
    "print (treecm)"
   ]
  },
  {
   "cell_type": "code",
   "execution_count": 28,
   "metadata": {},
   "outputs": [
    {
     "data": {
      "image/png": "[encoded data removed]",
      "text/plain": [
       "<Figure size 288x288 with 2 Axes>"
      ]
     },
     "metadata": {
      "needs_background": "light"
     },
     "output_type": "display_data"
    }
   ],
   "source": [
    "import pylab as plt\n",
    "%matplotlib inline\n",
    "plt.matshow(treecm)\n",
    "plt.title('Confusion matrix')\n",
    "plt.colorbar()\n",
    "plt.ylabel('Actual')\n",
    "plt.xlabel('Predicted')\n",
    "plt.show()"
   ]
  },
  {
   "cell_type": "markdown",
   "metadata": {},
   "source": [
    "### As can be seen above, the overfitting was addressed by setting a ccp_alpha to a value of 0.01. When the ccp_alpha was 0, overfitting was present as could be seen by an accuracy level of 0.99 on the training data and 0.60 on the testing data. With an alternative ccp_alpha value of 0.01 the training accuracy is 0.67 and testing accuracy level of 0.625. The testing accuracy is still lower than the training data, but it is better than the testing accuracy without an established ccp_alpha level. \n",
    "\n",
    "### Overall, an accuracy level of 0.625 is not ideal and we would like to see a higher level *need to add more here*"
   ]
  },
  {
   "cell_type": "code",
   "execution_count": null,
   "metadata": {},
   "outputs": [],
   "source": []
  }
 ],
 "metadata": {
  "kernelspec": {
   "display_name": "Python 3",
   "language": "python",
   "name": "python3"
  },
  "language_info": {
   "codemirror_mode": {
    "name": "ipython",
    "version": 3
   },
   "file_extension": ".py",
   "mimetype": "text/x-python",
   "name": "python",
   "nbconvert_exporter": "python",
   "pygments_lexer": "ipython3",
   "version": "3.8.3"
  }
 },
 "nbformat": 4,
 "nbformat_minor": 4
}
